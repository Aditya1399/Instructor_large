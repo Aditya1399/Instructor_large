{
  "nbformat": 4,
  "nbformat_minor": 0,
  "metadata": {
    "colab": {
      "provenance": [],
      "gpuType": "T4"
    },
    "kernelspec": {
      "name": "python3",
      "display_name": "Python 3"
    },
    "language_info": {
      "name": "python"
    },
    "accelerator": "GPU",
    "widgets": {
      "application/vnd.jupyter.widget-state+json": {
        "4ca5097c651e437db66b6a3b6ce2cafc": {
          "model_module": "@jupyter-widgets/controls",
          "model_name": "HBoxModel",
          "model_module_version": "1.5.0",
          "state": {
            "_dom_classes": [],
            "_model_module": "@jupyter-widgets/controls",
            "_model_module_version": "1.5.0",
            "_model_name": "HBoxModel",
            "_view_count": null,
            "_view_module": "@jupyter-widgets/controls",
            "_view_module_version": "1.5.0",
            "_view_name": "HBoxView",
            "box_style": "",
            "children": [
              "IPY_MODEL_fad69f534e7a41f48c1476aa0c7248ca",
              "IPY_MODEL_7d20e953b1ee43599f0655af9bc56ea6",
              "IPY_MODEL_5f0a62c3c387484cb3ebd1b966fe7c64"
            ],
            "layout": "IPY_MODEL_aa695157a1e34bccad4f1259ec8d7058"
          }
        },
        "fad69f534e7a41f48c1476aa0c7248ca": {
          "model_module": "@jupyter-widgets/controls",
          "model_name": "HTMLModel",
          "model_module_version": "1.5.0",
          "state": {
            "_dom_classes": [],
            "_model_module": "@jupyter-widgets/controls",
            "_model_module_version": "1.5.0",
            "_model_name": "HTMLModel",
            "_view_count": null,
            "_view_module": "@jupyter-widgets/controls",
            "_view_module_version": "1.5.0",
            "_view_name": "HTMLView",
            "description": "",
            "description_tooltip": null,
            "layout": "IPY_MODEL_b1a854d703924c978021272aefaa265f",
            "placeholder": "​",
            "style": "IPY_MODEL_3bbb68ac2472428082ae37d12605424b",
            "value": "Loading checkpoint shards:   0%"
          }
        },
        "7d20e953b1ee43599f0655af9bc56ea6": {
          "model_module": "@jupyter-widgets/controls",
          "model_name": "FloatProgressModel",
          "model_module_version": "1.5.0",
          "state": {
            "_dom_classes": [],
            "_model_module": "@jupyter-widgets/controls",
            "_model_module_version": "1.5.0",
            "_model_name": "FloatProgressModel",
            "_view_count": null,
            "_view_module": "@jupyter-widgets/controls",
            "_view_module_version": "1.5.0",
            "_view_name": "ProgressView",
            "bar_style": "",
            "description": "",
            "description_tooltip": null,
            "layout": "IPY_MODEL_2366e680a0c74319a4890374d562ddb8",
            "max": 8,
            "min": 0,
            "orientation": "horizontal",
            "style": "IPY_MODEL_d340905d69814ff5939e9e2cf29dee16",
            "value": 0
          }
        },
        "5f0a62c3c387484cb3ebd1b966fe7c64": {
          "model_module": "@jupyter-widgets/controls",
          "model_name": "HTMLModel",
          "model_module_version": "1.5.0",
          "state": {
            "_dom_classes": [],
            "_model_module": "@jupyter-widgets/controls",
            "_model_module_version": "1.5.0",
            "_model_name": "HTMLModel",
            "_view_count": null,
            "_view_module": "@jupyter-widgets/controls",
            "_view_module_version": "1.5.0",
            "_view_name": "HTMLView",
            "description": "",
            "description_tooltip": null,
            "layout": "IPY_MODEL_45b4c71071294af8bfb4be9c2b87ee03",
            "placeholder": "​",
            "style": "IPY_MODEL_eea2e4b36f094ae494031f5cad4d5433",
            "value": " 0/8 [00:00&lt;?, ?it/s]"
          }
        },
        "aa695157a1e34bccad4f1259ec8d7058": {
          "model_module": "@jupyter-widgets/base",
          "model_name": "LayoutModel",
          "model_module_version": "1.2.0",
          "state": {
            "_model_module": "@jupyter-widgets/base",
            "_model_module_version": "1.2.0",
            "_model_name": "LayoutModel",
            "_view_count": null,
            "_view_module": "@jupyter-widgets/base",
            "_view_module_version": "1.2.0",
            "_view_name": "LayoutView",
            "align_content": null,
            "align_items": null,
            "align_self": null,
            "border": null,
            "bottom": null,
            "display": null,
            "flex": null,
            "flex_flow": null,
            "grid_area": null,
            "grid_auto_columns": null,
            "grid_auto_flow": null,
            "grid_auto_rows": null,
            "grid_column": null,
            "grid_gap": null,
            "grid_row": null,
            "grid_template_areas": null,
            "grid_template_columns": null,
            "grid_template_rows": null,
            "height": null,
            "justify_content": null,
            "justify_items": null,
            "left": null,
            "margin": null,
            "max_height": null,
            "max_width": null,
            "min_height": null,
            "min_width": null,
            "object_fit": null,
            "object_position": null,
            "order": null,
            "overflow": null,
            "overflow_x": null,
            "overflow_y": null,
            "padding": null,
            "right": null,
            "top": null,
            "visibility": null,
            "width": null
          }
        },
        "b1a854d703924c978021272aefaa265f": {
          "model_module": "@jupyter-widgets/base",
          "model_name": "LayoutModel",
          "model_module_version": "1.2.0",
          "state": {
            "_model_module": "@jupyter-widgets/base",
            "_model_module_version": "1.2.0",
            "_model_name": "LayoutModel",
            "_view_count": null,
            "_view_module": "@jupyter-widgets/base",
            "_view_module_version": "1.2.0",
            "_view_name": "LayoutView",
            "align_content": null,
            "align_items": null,
            "align_self": null,
            "border": null,
            "bottom": null,
            "display": null,
            "flex": null,
            "flex_flow": null,
            "grid_area": null,
            "grid_auto_columns": null,
            "grid_auto_flow": null,
            "grid_auto_rows": null,
            "grid_column": null,
            "grid_gap": null,
            "grid_row": null,
            "grid_template_areas": null,
            "grid_template_columns": null,
            "grid_template_rows": null,
            "height": null,
            "justify_content": null,
            "justify_items": null,
            "left": null,
            "margin": null,
            "max_height": null,
            "max_width": null,
            "min_height": null,
            "min_width": null,
            "object_fit": null,
            "object_position": null,
            "order": null,
            "overflow": null,
            "overflow_x": null,
            "overflow_y": null,
            "padding": null,
            "right": null,
            "top": null,
            "visibility": null,
            "width": null
          }
        },
        "3bbb68ac2472428082ae37d12605424b": {
          "model_module": "@jupyter-widgets/controls",
          "model_name": "DescriptionStyleModel",
          "model_module_version": "1.5.0",
          "state": {
            "_model_module": "@jupyter-widgets/controls",
            "_model_module_version": "1.5.0",
            "_model_name": "DescriptionStyleModel",
            "_view_count": null,
            "_view_module": "@jupyter-widgets/base",
            "_view_module_version": "1.2.0",
            "_view_name": "StyleView",
            "description_width": ""
          }
        },
        "2366e680a0c74319a4890374d562ddb8": {
          "model_module": "@jupyter-widgets/base",
          "model_name": "LayoutModel",
          "model_module_version": "1.2.0",
          "state": {
            "_model_module": "@jupyter-widgets/base",
            "_model_module_version": "1.2.0",
            "_model_name": "LayoutModel",
            "_view_count": null,
            "_view_module": "@jupyter-widgets/base",
            "_view_module_version": "1.2.0",
            "_view_name": "LayoutView",
            "align_content": null,
            "align_items": null,
            "align_self": null,
            "border": null,
            "bottom": null,
            "display": null,
            "flex": null,
            "flex_flow": null,
            "grid_area": null,
            "grid_auto_columns": null,
            "grid_auto_flow": null,
            "grid_auto_rows": null,
            "grid_column": null,
            "grid_gap": null,
            "grid_row": null,
            "grid_template_areas": null,
            "grid_template_columns": null,
            "grid_template_rows": null,
            "height": null,
            "justify_content": null,
            "justify_items": null,
            "left": null,
            "margin": null,
            "max_height": null,
            "max_width": null,
            "min_height": null,
            "min_width": null,
            "object_fit": null,
            "object_position": null,
            "order": null,
            "overflow": null,
            "overflow_x": null,
            "overflow_y": null,
            "padding": null,
            "right": null,
            "top": null,
            "visibility": null,
            "width": null
          }
        },
        "d340905d69814ff5939e9e2cf29dee16": {
          "model_module": "@jupyter-widgets/controls",
          "model_name": "ProgressStyleModel",
          "model_module_version": "1.5.0",
          "state": {
            "_model_module": "@jupyter-widgets/controls",
            "_model_module_version": "1.5.0",
            "_model_name": "ProgressStyleModel",
            "_view_count": null,
            "_view_module": "@jupyter-widgets/base",
            "_view_module_version": "1.2.0",
            "_view_name": "StyleView",
            "bar_color": null,
            "description_width": ""
          }
        },
        "45b4c71071294af8bfb4be9c2b87ee03": {
          "model_module": "@jupyter-widgets/base",
          "model_name": "LayoutModel",
          "model_module_version": "1.2.0",
          "state": {
            "_model_module": "@jupyter-widgets/base",
            "_model_module_version": "1.2.0",
            "_model_name": "LayoutModel",
            "_view_count": null,
            "_view_module": "@jupyter-widgets/base",
            "_view_module_version": "1.2.0",
            "_view_name": "LayoutView",
            "align_content": null,
            "align_items": null,
            "align_self": null,
            "border": null,
            "bottom": null,
            "display": null,
            "flex": null,
            "flex_flow": null,
            "grid_area": null,
            "grid_auto_columns": null,
            "grid_auto_flow": null,
            "grid_auto_rows": null,
            "grid_column": null,
            "grid_gap": null,
            "grid_row": null,
            "grid_template_areas": null,
            "grid_template_columns": null,
            "grid_template_rows": null,
            "height": null,
            "justify_content": null,
            "justify_items": null,
            "left": null,
            "margin": null,
            "max_height": null,
            "max_width": null,
            "min_height": null,
            "min_width": null,
            "object_fit": null,
            "object_position": null,
            "order": null,
            "overflow": null,
            "overflow_x": null,
            "overflow_y": null,
            "padding": null,
            "right": null,
            "top": null,
            "visibility": null,
            "width": null
          }
        },
        "eea2e4b36f094ae494031f5cad4d5433": {
          "model_module": "@jupyter-widgets/controls",
          "model_name": "DescriptionStyleModel",
          "model_module_version": "1.5.0",
          "state": {
            "_model_module": "@jupyter-widgets/controls",
            "_model_module_version": "1.5.0",
            "_model_name": "DescriptionStyleModel",
            "_view_count": null,
            "_view_module": "@jupyter-widgets/base",
            "_view_module_version": "1.2.0",
            "_view_name": "StyleView",
            "description_width": ""
          }
        }
      }
    }
  },
  "cells": [
    {
      "cell_type": "code",
      "execution_count": 1,
      "metadata": {
        "id": "eLqa2uxXdMQJ"
      },
      "outputs": [],
      "source": [
        "import pandas as pd\n",
        "import sqlite3\n",
        "import os"
      ]
    },
    {
      "cell_type": "code",
      "source": [
        "df=pd.read_csv('sampledata3.csv')"
      ],
      "metadata": {
        "id": "P7Pa17StfByn"
      },
      "execution_count": 3,
      "outputs": []
    },
    {
      "cell_type": "code",
      "source": [
        "df['SocialMedia_Youtube']"
      ],
      "metadata": {
        "colab": {
          "base_uri": "https://localhost:8080/"
        },
        "id": "zxSthOsHfGJc",
        "outputId": "25a0fe0a-abf7-4bcc-b6ba-8d4c3c85690c"
      },
      "execution_count": 4,
      "outputs": [
        {
          "output_type": "execute_result",
          "data": {
            "text/plain": [
              "0       15K\n",
              "1       15K\n",
              "2     15.2K\n",
              "3     15.2K\n",
              "4     15.2K\n",
              "5     15.2K\n",
              "6     15.3K\n",
              "7     15.4K\n",
              "8     15.6K\n",
              "9     15.8K\n",
              "10      16K\n",
              "11    16.1K\n",
              "12    16.1K\n",
              "13    16.2K\n",
              "14    16.3K\n",
              "15      10K\n",
              "16    10.2K\n",
              "17    10.5K\n",
              "18      11K\n",
              "19    11.7K\n",
              "20    12.5K\n",
              "21      13K\n",
              "22      14K\n",
              "23    14.3K\n",
              "24    14.3K\n",
              "25    14.3K\n",
              "26    14.5K\n",
              "27    14.5K\n",
              "28    14.5K\n",
              "29    14.9K\n",
              "30      15K\n",
              "31      16K\n",
              "32    16.2K\n",
              "33    16.8K\n",
              "34      17K\n",
              "35    17.5K\n",
              "36    18.2K\n",
              "37    18.8K\n",
              "38    19.5K\n",
              "39      22K\n",
              "40    22.5K\n",
              "41      23K\n",
              "42      24K\n",
              "43    24.5K\n",
              "44    24.9K\n",
              "45       3K\n",
              "46     3.1K\n",
              "47    3.15K\n",
              "48     3.2K\n",
              "49     3.4K\n",
              "50     3.6K\n",
              "51     3.7K\n",
              "52     3.7K\n",
              "53    3.77k\n",
              "54     3.8K\n",
              "55     4.3K\n",
              "56     4.3K\n",
              "57     4.3K\n",
              "58     4.3K\n",
              "59     4.3K\n",
              "Name: SocialMedia_Youtube, dtype: object"
            ]
          },
          "metadata": {},
          "execution_count": 4
        }
      ]
    },
    {
      "cell_type": "code",
      "source": [
        "conn=sqlite3.connect('data.sqlite')\n",
        "cur=conn.cursor()\n",
        "table_name='cars'\n",
        "df.to_sql(table_name,conn,if_exists='replace',index=False)\n",
        "\n",
        "conn.close()"
      ],
      "metadata": {
        "id": "N2xQqNMjxqJq"
      },
      "execution_count": 5,
      "outputs": []
    },
    {
      "cell_type": "code",
      "source": [
        "!ls | grep data.sqlite\n"
      ],
      "metadata": {
        "colab": {
          "base_uri": "https://localhost:8080/"
        },
        "id": "oETmoEq5taPh",
        "outputId": "c6025f9d-66df-49e4-fac2-58a4273d1f83"
      },
      "execution_count": 6,
      "outputs": [
        {
          "output_type": "stream",
          "name": "stdout",
          "text": [
            "data.sqlite\n"
          ]
        }
      ]
    },
    {
      "cell_type": "code",
      "source": [
        "def read_query(sql):\n",
        "  conn=sqlite3.connect('data.sqlite')\n",
        "  cur=conn.cursor()\n",
        "  cur.execute(sql)\n",
        "  rows=cur.fetchall()\n",
        "  for row in rows:\n",
        "    print(row)\n",
        "  conn.close()"
      ],
      "metadata": {
        "id": "XM_8ZxnZzxvL"
      },
      "execution_count": 7,
      "outputs": []
    },
    {
      "cell_type": "code",
      "source": [
        "read_query('SELECT * FROM cars')"
      ],
      "metadata": {
        "colab": {
          "base_uri": "https://localhost:8080/"
        },
        "id": "oEeVSYG10FMB",
        "outputId": "4d9495e2-3774-4e4f-b92c-d88882ec6b3e"
      },
      "execution_count": 8,
      "outputs": [
        {
          "output_type": "stream",
          "name": "stdout",
          "text": [
            "('22 Mar 17', 'John Doe', 'National', 'MBBS,MD,PhD', 'Oncology', 'Lung Cancer', 15, 1, 'New York City', 'East Coast', '8K', '10K', '15K', 3.7, 2, 15, 10, '20000', 0.0, 0, 29, 10, 3, 0, 1, 0, 0, 0, 0, 0, 2, 'Yes', 'Discussion about new drug launch', 'New drug launch initiation', 'Introduction and overview of drug', 'Intro and overview of drug', 'In-Person', 'Product Launch - Talim', 'To get acquanitance of the drug', 'Introduction and overview of drug', 'Neutral', 'Discuss mechanism of action of drug', 'In-Person')\n",
            "('6 Jun 17', 'John Doe', 'National', 'MBBS,MD,PhD', 'Oncology', 'Lung Cancer', 15, 1, 'New York City', 'East Coast', '8.1K', '10.1K', '15K', 3.8, 2, 15, 10, '20000', 0.0, 0, 29, 10, 3, 1, 1, 0, 0, 0, 0, 0, 3, 'Yes', 'Introduction and overview of drug', 'Intro and overview of drug', 'Discuss mechanism of action of drug', 'Target receptor of drug', 'In-Person', 'Product Launch - Talim', 'To know about drug action and how it works', 'Target interaction of drug', 'Neutral', 'Conferences for Product awareness', 'Email')\n",
            "('19 Sep 17', 'John Doe', 'National', 'MBBS,MD,PhD', 'Oncology', 'Lung Cancer', 15, 1, 'New York City', 'East Coast', '8.2K', '10.2K', '15.2K', 3.9, 2, 15, 10, '20000', 0.0, 0, 29, 10, 3, 1, 1, 0, 1, 0, 0, 0, 4, 'Yes', 'Discuss mechanism of action of drug', 'Target receptor of drug', 'Conferences for Product awareness', 'Awareness Campaigns', 'Email', 'Product Launch - Talim', 'To spread the awareness of the talim drug', 'Spreading awareness about talim drug', 'Neutral', 'Safety', 'Video Call')\n",
            "('22 Mar 18', 'John Doe', 'National', 'MBBS,MD,PhD', 'Oncology', 'Lung Cancer', 16, 1, 'New York City', 'East Coast', '8.2K', '10.2K', '15.2K', 3.9, 2, 16, 11, '20000', 0.0, 0, 29, 10, 3, 1, 1, 0, 1, 0, 0, 0, 4, 'Yes', 'Conferences for Product awareness', 'Awareness Campaigns', 'Safety', 'Safety measures of the drug on general patients', 'Video Call', 'Product Launch - Talim', 'To discuss the safety measures of drug on general patients and discuss complications if any', 'Safety measures and its complications', 'Neutral', 'Efficacy', 'Video Call')\n",
            "('6 Jun 18', 'John Doe', 'National', 'MBBS,MD,PhD', 'Oncology', 'Lung Cancer', 16, 1, 'New York City', 'East Coast', '8.2K', '10.2K', '15.2K', 3.9, 2, 16, 11, '30000', 0.0, 0, 29, 10, 3, 1, 1, 0, 1, 0, 0, 0, 4, 'Yes', 'Safety', 'Safety measures of the drug on general patients', 'Efficacy', 'Efficacy and effectivenes of drug', 'Video Call', 'Product Launch - Talim', 'Discussion on efficacy and its ability to eliminate the disease', 'efficacy and accuracy of drug', 'Neutral', 'Patient Demographics', 'In-Person')\n",
            "('19 Sep 18', 'John Doe', 'National', 'MBBS,MD,PhD', 'Oncology', 'Lung Cancer', 16, 1, 'New York City', 'East Coast', '8.2K', '10.2K', '15.2K', 3.9, 2, 16, 11, '30000', 0.0, 0, 29, 10, 4, 1, 1, 0, 1, 0, 0, 0, 4, 'Yes', 'Efficacy', 'Efficacy and effectivenes of drug', 'Patient Demographics', 'Health Status,Origin ,age,race,gender of patients', 'In -Person', 'Product Launch - Talim', 'To study the patient demographics on which the drug is tested before launch', 'Health Status,Origin ,age,race,gender of patients', 'Neutral', 'Discuss various phases of testing in patients', 'Video Conference')\n",
            "('22 Mar 19', 'John Doe', 'National', 'MBBS,MD,PhD', 'Oncology', 'Lung Cancer', 17, 2, 'New York City', 'East Coast', '8.3K', '10.4K', '15.3K', 4.1, 3, 17, 12, '40000', 0.0, 0, 30, 12, 5, 1, 1, 1, 1, 0, 0, 0, 5, 'No', \"Discussion on drug's potential benefits and differentiating factors that make it valuable to patients and healthcare providers\", 'Product overview and its differentiating way', 'Discussion regarding claims/insurance and copay programs', 'Claims made,Insurance Coverage,Training,Customer Support Programs', 'Video Conference', 'Product Launch - Talim', 'To discuss about the claims,insurance and copay programs', 'Liability Insurance,Claims regarding a product,Training programs,customer support programs,Loyalty or reward programs', 'Neutral', 'Discuss compliance and ethical practices', 'Phone Call')\n",
            "('6 Jun 19', 'John Doe', 'National', 'MBBS,MD,PhD', 'Oncology', 'Lung Cancer', 17, 2, 'New York City', 'East Coast', '8.34K', '10.5K', '15.4K', 4.1, 3, 17, 12, '40000', 0.0, 0, 30, 12, 5, 1, 1, 1, 1, 0, 0, 0, 5, 'No', 'Efficacy', 'Efficacy and effectivenes of drug', 'Discuss the event objectives,agenda and topics to be covered', 'Event agenda,subtopics,objectives', 'Video Conference', 'Product Launch - Talim', 'Discussion on event agenda,topics so that they align with  company objectives', 'Event Agenda,Topics', 'Neutral', 'Scientific communication materials', 'Phone Call')\n",
            "('19 Sep 19', 'John Doe', 'National', 'MBBS,MD,PhD', 'Oncology', 'Lung Cancer', 17, 2, 'New York City', 'East Coast', '8.4K', '10.6K', '15.6K', 4.0, 3, 17, 12, '40000', 0.0, 0, 30, 12, 5, 1, 1, 1, 1, 0, 0, 0, 5, 'No', 'Safety', 'Safety measures of the drug on general patients', 'Sponsored patient programs', 'Access to medicine,patient education and support ,treatment adherance and monitoring', 'Email', 'Product Launch - Talim', 'Discussion on supporting patients with access to medicine,education and other programs', 'Access to medicine,patient education and support ,treatment adherance and monitoring', 'Neutral', 'Review and provide feedback on campaign designs', 'Video Conference')\n",
            "('22 Mar 20', 'John Doe', 'National', 'MBBS,MD,PhD', 'Oncology', 'Lung Cancer', 18, 2, 'New York City', 'East Coast', '8.5K', '10.7K', '15.8K', 4.2, 4, 19, 13, '70000', 0.0, 0, 32, 14, 5, 1, 1, 1, 1, 1, 1, 0, 5, 'No', \"Discussion on drug's potential benefits and differentiating factors that make it valuable to patients and healthcare providers\", 'Product overview and its differentiating way', 'Discuss the event objectives,agenda and topics to be covered', 'Event agenda,subtopics,objectives', 'Video Conference', 'Product Launch - Talim', 'Discussion on event agenda,topics so that they align with  company objectives', 'Event Agenda,Topics', 'Neutral', 'Discuss various phases of testing in patients', 'Video Conference')\n",
            "('6 Jun 20', 'John Doe', 'National', 'MBBS,MD,PhD', 'Oncology', 'Lung Cancer', 18, 3, 'New York City,New Jersey', 'East Coast', '9K', '11K', '16K', 4.4, 5, 20, 13, '1,00,000', 0.0, 0, 34, 16, 6, 1, 1, 1, 2, 1, 1, 0, 7, 'No', 'Conferences for Product awareness', 'Awareness Campaigns', 'Marketing Startegy', 'Advertisments,brand reach', 'In-Person', 'Product Launch - Talim', 'Discussion about how to market the product to increase its reach', 'Promotion channels and tactics,Pharmacovigilance and safety monitoring', 'Neutral', 'Discuss various phases of testing in patients', 'Email')\n",
            "('19 Sep 20', 'John Doe', 'National', 'MBBS,MD,PhD', 'Oncology', 'Lung Cancer', 18, 3, 'New York City,New Jersey', 'East Coast', '9.2K', '11.1K', '16.1K', 4.4, 5, 21, 13, '1,00,000', 0.0, 0, 36, 16, 6, 1, 1, 1, 2, 1, 1, 0, 7, 'No', 'Discuss mechanism of action of drug', 'Target receptor of drug', 'Patient Demographics', 'Health Status,Origin ,age,race,gender of patients', 'In -Person', 'Product Launch - Talim', 'To study the patient demographics on which the drug is tested before launch', 'Health Status,Origin ,age,race,gender of patients', 'Neutral', 'Discuss various phases of testing in patients', 'Video Conference')\n",
            "('22 Mar 21', 'John Doe', 'National', 'MBBS,MD,PhD', 'Oncology', 'Lung Cancer', 19, 3, 'New York City,New Jersey', 'East Coast', '9.3K', '11.1K', '16.1K', 4.3, 5, 21, 13, '1,00,000', 0.0, 0, 36, 16, 6, 1, 1, 1, 2, 1, 1, 0, 7, 'No', 'Efficacy', 'Efficacy and effectivenes of drug', 'Discussion regarding claims/insurance and copay programs', 'Claims made,Insurance Coverage,Training,Customer Support Programs', 'Video Conference', 'Product Launch - Talim', 'To discuss about the claims,insurance and copay programs', 'Liability Insurance,Claims regarding a product,Training programs,customer support programs,Loyalty or reward programs', 'Neutral', 'Discuss compliance and ethical practices', 'Phone Call')\n",
            "('6 Jun 21', 'John Doe', 'National', 'MBBS,MD,PhD', 'Oncology', 'Lung Cancer', 19, 3, 'New York City,New Jersey', 'East Coast', '9.4K', '11.1K', '16.2K', 4.2, 5, 21, 13, '1,00,000', 0.0, 0, 36, 16, 6, 1, 1, 1, 2, 1, 1, 0, 7, 'No', 'Discuss mechanism of action of drug', 'Target receptor of drug', 'Safety', 'Safety measures of the drug on general patients', 'Video Call', 'Product Launch - Talim', 'To discuss the safety measures of drug on general patients and discuss complications if any', 'Safety measures and its complications', 'Neutral', 'Efficacy', 'Video Call')\n",
            "('19 Sep 21', 'John Doe', 'National', 'MBBS,MD,PhD', 'Oncology', 'Lung Cancer', 19, 3, 'New York City,New Jersey', 'East Coast', '9.4K', '11.1K', '16.3K', 4.2, 5, 21, 13, '1,00,000', 0.0, 0, 36, 16, 6, 1, 1, 1, 2, 1, 1, 0, 7, 'No', \"Discussion on drug's potential benefits and differentiating factors that make it valuable to patients and healthcare providers\", 'Product overview and its differentiating way', 'Discussion regarding claims/insurance and copay programs', 'Claims made,Insurance Coverage,Training,Customer Support Programs', 'Video Conference', 'Product Launch - Talim', 'To discuss about the claims,insurance and copay programs', 'Liability Insurance,Claims regarding a product,Training programs,customer support programs,Loyalty or reward programs', 'Neutral', 'Discuss compliance and ethical practices', 'Phone Call')\n",
            "('22 Mar 17', 'Jane Lee', 'Regional', 'MBBS, MD', 'Oncology', 'Lung Cancer', 10, 4, 'Staten Island', 'East Coast', '40K', '20K', '10K', 4.6, 4, 5, 6, '0', 200.0, 0, 21, 4, 4, 0, 0, 0, 3, 0, 0, 0, 8, 'No', \"Discussion on drug's potential benefits and differentiating factors that make it valuable to patients and healthcare providers\", 'Product overview and its differentiating way', 'Discussion regarding claims/insurance and copay programs', 'Claims made,Insurance Coverage,Training,Customer Support Programs', 'Video Conference', 'Product Launch - Talim', 'To discuss about the claims,insurance and copay programs', 'Liability Insurance,Claims regarding a product,Training programs,customer support programs,Loyalty or reward programs', 'Good', 'Discuss compliance and ethical practices', 'Phone Call')\n",
            "('6 Jun 17', 'Jane Lee', 'Regional', 'MBBS, MD', 'Oncology', 'Lung Cancer', 10, 4, 'Staten Island', 'East Coast', '40.2K', '20.3K', '10.2K', 4.6, 4, 5, 6, '0', 300.0, 0, 21, 4, 4, 0, 0, 0, 3, 0, 0, 0, 8, 'No', 'Efficacy', 'Efficacy and effectivenes of drug', 'Discuss the event objectives,agenda and topics to be covered', 'Event agenda,subtopics,objectives', 'Video Conference', 'Product Launch - Talim', 'Discussion on event agenda,topics so that they align with  company objectives', 'Event Agenda,Topics', 'Good', 'Scientific communication materials', 'Phone Call')\n",
            "('19 Sep 17', 'Jane Lee', 'Regional', 'MBBS, MD', 'Oncology', 'Lung Cancer', 10, 4, 'Staten Island', 'East Coast', '40.4K', '20.5K', '10.5K', 4.6, 4, 5, 6, '0', 300.0, 0, 21, 4, 4, 0, 0, 0, 3, 0, 0, 0, 8, 'No', 'Safety', 'Safety measures of the drug on general patients', 'Sponsored patient programs', 'Access to medicine,patient education and support ,treatment adherance and monitoring', 'Email', 'Product Launch - Talim', 'Discussion on supporting patients with access to medicine,education and other programs', 'Access to medicine,patient education and support ,treatment adherance and monitoring', 'Good', 'Review and provide feedback on campaign designs', 'Video Conference')\n",
            "('22 Mar 18', 'Jane Lee', 'Regional', 'MBBS, MD', 'Oncology', 'Lung Cancer', 11, 4, 'Staten Island', 'East Coast', '40.7K', '20.9K', '11K', 4.6, 4, 5, 6, '0', 400.0, 0, 21, 4, 4, 0, 0, 0, 3, 0, 0, 0, 0, 'Yes', 'Discussion about new drug launch', 'New drug launch initiation', 'Introduction and overview of drug', 'Intro and overview of drug', 'In-Person', 'Product Launch - Talim', 'To get acquanitance of the drug', 'Introduction and overview of drug', 'Good', 'Discuss mechanism of action of drug', 'In-Person')\n",
            "('6 Jun 18', 'Jane Lee', 'Regional', 'MBBS, MD', 'Oncology', 'Lung Cancer', 11, 4, 'Staten Island', 'East Coast', '41K', '21.5K', '11.7K', 4.7, 5, 6, 7, '0', 400.0, 0, 22, 5, 5, 1, 0, 0, 3, 0, 0, 0, 0, 'Yes', 'Introduction and overview of drug', 'Intro and overview of drug', 'Discuss mechanism of action of drug', 'Target receptor of drug', 'In-Person', 'Product Launch - Talim', 'To know about drug action and how it works', 'Target interaction of drug', 'Good', 'Conferences for Product awareness', 'Email')\n",
            "('19 Sep 18', 'Jane Lee', 'Regional', 'MBBS, MD', 'Oncology', 'Lung Cancer', 11, 4, 'Staten Island', 'East Coast', '42K', '23K', '12.5K', 4.71, 5, 6, 7, '0', 500.0, 0, 22, 5, 5, 1, 0, 0, 3, 0, 0, 0, 0, 'Yes', 'Discuss mechanism of action of drug', 'Target receptor of drug', 'Conferences for Product awareness', 'Awareness Campaigns', 'Email', 'Product Launch - Talim', 'To spread the awareness of the talim drug', 'Spreading awareness about talim drug', 'Good', 'Safety', 'Video Call')\n",
            "('22 Mar 19', 'Jane Lee', 'Regional', 'MBBS, MD', 'Oncology', 'Lung Cancer', 12, 4, 'Staten Island', 'East Coast', '42.2K', '23.5K', '13K', 4.72, 5, 6, 7, '0', 500.0, 0, 23, 5, 5, 1, 0, 0, 3, 0, 0, 0, 0, 'Yes', 'Conferences for Product awareness', 'Awareness Campaigns', 'Safety', 'Safety measures of the drug on general patients', 'Video Call', 'Product Launch - Talim', 'To discuss the safety measures of drug on general patients and discuss complications if any', 'Safety measures and its complications', 'Good', 'Efficacy', 'Video Call')\n",
            "('6 Jun 19', 'Jane Lee', 'Regional', 'MBBS, MD', 'Oncology', 'Lung Cancer', 12, 4, 'Staten Island', 'East Coast', '43K', '24.5K', '14K', 4.8, 6, 8, 8, '0', 500.0, 0, 24, 6, 6, 2, 0, 0, 3, 0, 0, 0, 0, 'Yes', 'Safety', 'Safety measures of the drug on general patients', 'Efficacy', 'Efficacy and effectivenes of drug', 'Video Call', 'Product Launch - Talim', 'Discussion on efficacy and its ability to eliminate the disease', 'efficacy and accuracy of drug', 'Good', 'Patient Demographics', 'In-Person')\n",
            "('19 Sep 19', 'Jane Lee', 'Regional', 'MBBS, MD', 'Oncology', 'Lung Cancer', 12, 4, 'Staten Island', 'East Coast', '43.3K', '25K', '14.3K', 4.83, 7, 8, 8, '0', 500.0, 0, 25, 6, 7, 2, 1, 0, 3, 0, 0, 0, 0, 'Yes', 'Efficacy', 'Efficacy and effectivenes of drug', 'Patient Demographics', 'Health Status,Origin ,age,race,gender of patients', 'In -Person', 'Product Launch - Talim', 'To study the patient demographics on which the drug is tested before launch', 'Health Status,Origin ,age,race,gender of patients', 'Good', 'Discuss various phases of testing in patients', 'Video Conference')\n",
            "('22 Mar 20', 'Jane Lee', 'Regional', 'MBBS, MD', 'Oncology', 'Lung Cancer', 13, 4, 'Staten Island', 'East Coast', '43.3K', '25K', '14.3K', 4.7, 7, 8, 9, '0', 500.0, 0, 25, 6, 7, 2, 1, 1, 3, 0, 0, 0, 0, 'No', \"Discussion on drug's potential benefits and differentiating factors that make it valuable to patients and healthcare providers\", 'Product overview and its differentiating way', 'Discuss the event objectives,agenda and topics to be covered', 'Event agenda,subtopics,objectives', 'Video Conference', 'Product Launch - Talim', 'Discussion on event agenda,topics so that they align with  company objectives', 'Event Agenda,Topics', 'Good', 'Discuss various phases of testing in patients', 'Video Conference')\n",
            "('6 Jun 20', 'Jane Lee', 'Regional', 'MBBS, MD', 'Oncology', 'Lung Cancer', 13, 4, 'Staten Island', 'East Coast', '43.3K', '25K', '14.3K', 4.65, 7, 8, 9, '0', 600.0, 0, 25, 6, 7, 2, 2, 1, 3, 0, 0, 0, 0, 'No', 'Conferences for Product awareness', 'Awareness Campaigns', 'Marketing Startegy', 'Advertisments,brand reach', 'In-Person', 'Product Launch - Talim', 'Discussion about how to market the product to increase its reach', 'Promotion channels and tactics,Pharmacovigilance and safety monitoring', 'Good', 'Discuss various phases of testing in patients', 'Email')\n",
            "('19 Sep 20', 'Jane Lee', 'Regional', 'MBBS, MD', 'Oncology', 'Lung Cancer', 13, 5, 'Staten Island', 'East Coast', '43.4K', '25.1K', '14.5K', 4.54, 7, 9, 9, '0', 600.0, 0, 25, 6, 7, 2, 2, 1, 3, 0, 0, 0, 0, 'No', 'Discuss mechanism of action of drug', 'Target receptor of drug', 'Patient Demographics', 'Health Status,Origin ,age,race,gender of patients', 'In -Person', 'Product Launch - Talim', 'To study the patient demographics on which the drug is tested before launch', 'Health Status,Origin ,age,race,gender of patients', 'Good', 'Discuss various phases of testing in patients', 'Video Conference')\n",
            "('22 Mar 21', 'Jane Lee', 'Regional', 'MBBS, MD', 'Oncology', 'Lung Cancer', 14, 5, 'Staten Island', 'East Coast', '43.4K', '25.1K', '14.5K', 4.57, 7, 9, 9, '0', 600.0, 0, 25, 6, 7, 2, 2, 1, 3, 0, 0, 0, 0, 'No', 'Efficacy', 'Efficacy and effectivenes of drug', 'Discussion regarding claims/insurance and copay programs', 'Claims made,Insurance Coverage,Training,Customer Support Programs', 'Video Conference', 'Product Launch - Talim', 'To discuss about the claims,insurance and copay programs', 'Liability Insurance,Claims regarding a product,Training programs,customer support programs,Loyalty or reward programs', 'Good', 'Discuss compliance and ethical practices', 'Phone Call')\n",
            "('6 Jun 21', 'Jane Lee', 'Regional', 'MBBS, MD', 'Oncology', 'Lung Cancer', 14, 5, 'Staten Island', 'East Coast', '43.4K', '25.1K', '14.5K', 4.58, 7, 9, 9, '0', 600.0, 0, 25, 6, 7, 2, 2, 2, 3, 0, 0, 0, 0, 'No', 'Discuss mechanism of action of drug', 'Target receptor of drug', 'Safety', 'Safety measures of the drug on general patients', 'Video Call', 'Product Launch - Talim', 'To discuss the safety measures of drug on general patients and discuss complications if any', 'Safety measures and its complications', 'Good', 'Efficacy', 'Video Call')\n",
            "('19 Sep 21', 'Jane Lee', 'Regional', 'MBBS, MD', 'Oncology', 'Lung Cancer', 14, 5, 'Staten Island', 'East Coast', '43.9K', '25.6K', '14.9K', 4.6, 7, 9, 10, '0', 600.0, 0, 25, 7, 7, 2, 2, 2, 3, 0, 0, 0, 0, 'No', \"Discussion on drug's potential benefits and differentiating factors that make it valuable to patients and healthcare providers\", 'Product overview and its differentiating way', 'Discussion regarding claims/insurance and copay programs', 'Claims made,Insurance Coverage,Training,Customer Support Programs', 'Video Conference', 'Product Launch - Talim', 'To discuss about the claims,insurance and copay programs', 'Liability Insurance,Claims regarding a product,Training programs,customer support programs,Loyalty or reward programs', 'Good', 'Discuss compliance and ethical practices', 'Phone Call')\n",
            "('22 Mar 17', 'David Kim', 'International', 'MBBS, MD, PhD', 'Oncology', 'MyleomaCancer', 20, 5, 'Manhatten', 'East Coast', '60K', '25K', '15K', 4.3, 11, 28, 16, '50000', 0.0, 50000, 45, 22, 2, 0, 0, 0, 0, 0, 2, 1, 2, 'Yes', 'Explore the possibility of Dr David Kim participating as a speaker at an upcoming medical conference', 'Discuss conference themes,outline session objectives,explore potential subtopics for Dr David Kim presenatation', 'Competitive Analysis', 'Competitive Analysis of the drug', 'In -Person', 'Meeting for a new clinical trial-Zortobombib', 'Discussion about competitive analysis to get overview of market', 'Competitor drugs,their advantages and disadvantages', 'Neutral', 'Principal Investigator Support', 'Video Conference')\n",
            "('6 Jun 17', 'David Kim', 'International', 'MBBS, MD, PhD', 'Oncology', 'MyleomaCancer', 20, 5, 'Manhatten', 'East Coast', '61K', '26K', '16K', 4.3, 11, 28, 16, '50000', 0.0, 50000, 45, 22, 2, 0, 0, 0, 0, 0, 2, 1, 2, 'Yes', 'Competitive Analysis', 'Competitive Analysis of the drug', 'Principal Investigator Support', 'Study Design and Protocol Development,Regulatory Compliance,Site Selection', 'Video Conference', 'Meeting for a new clinical trial-Zortobombib', 'Oversseeing the entire study,ensuring compliance with rights and guidelines and protecting rights and welfare of participants', 'Study Design and Protocol Development,Regulatory Compliance,Site Selection,Participant Recruitment,Safety and Adverse Event Monitoring', 'Neutral', 'Safety', 'Email')\n",
            "('19 Sep 17', 'David Kim', 'International', 'MBBS, MD, PhD', 'Oncology', 'MyleomaCancer', 20, 5, 'Manhatten', 'East Coast', '61.5K', '25.5K', '16.2K', 4.3, 11, 28, 16, '50000', 0.0, 50000, 45, 22, 2, 1, 0, 0, 0, 0, 2, 1, 2, 'Yes', 'Principal Investigator Support', 'Study Design and Protocol Development,Regulatory Compliance,Site Selection', 'Safety', 'Safety measures of the drug on general patients', 'Email', 'Meeting for a new clinical trial-Zortobombib', 'To discuss the safety measures of drug on general patients and discuss complications if any', 'Safety measures and its complications', 'Neutral', 'Efficacy', 'Video Call')\n",
            "('22 Mar 18', 'David Kim', 'International', 'MBBS, MD, PhD', 'Oncology', 'Lung Cancer', 21, 5, 'Manhatten', 'East Coast', '62K', '26K', '16.8K', 4.3, 11, 28, 16, '50000', 0.0, 50000, 45, 22, 2, 1, 0, 0, 0, 0, 2, 1, 2, 'Yes', 'Conferences for Product awareness', 'Awareness Campaigns', 'Safety', 'Safety measures of the drug on general patients', 'Video Call', 'Product Launch - Talim', 'To discuss the safety measures of drug on general patients and discuss complications if any', 'Safety measures and its complications', 'Neutral', 'Efficacy', 'Video Call')\n",
            "('6 Jun 18', 'David Kim', 'International', 'MBBS, MD, PhD', 'Oncology', 'Lung Cancer', 21, 5, 'Manhatten,Boston', 'East Coast', '62.3K', '26.4K', '17K', 4.3, 2, 28, 16, '50000', 0.0, 50000, 45, 22, 3, 1, 0, 0, 0, 0, 2, 1, 2, 'No', 'Discussion about new drug launch', 'New drug launch initiation', 'Introduction and overview of drug', 'Intro and overview of drug', 'In-Person', 'Product Launch - Talim', 'To get acquanitance of the drug', 'Introduction and overview of drug', 'Neutral', 'Discuss mechanism of action of drug', 'In-Person')\n",
            "('19 Sep 18', 'David Kim', 'International', 'MBBS, MD, PhD', 'Oncology', 'Lung Cancer', 21, 5, 'Manhatten,Boston', 'East Coast', '62.8K', '26.8K', '17.5K', 4.35, 2, 29, 17, '60000', 0.0, 50000, 46, 23, 3, 1, 0, 1, 0, 0, 2, 2, 2, 'Yes', 'Introduction and overview of drug', 'Intro and overview of drug', 'Discuss mechanism of action of drug', 'Target receptor of drug', 'In-Person', 'Product Launch - Talim', 'To know about drug action and how it works', 'Target interaction of drug', 'Neutral', 'Conferences for Product awareness', 'Email')\n",
            "('22 Mar 19', 'David Kim', 'International', 'MBBS, MD, PhD', 'Oncology', 'Lung Cancer', 22, 5, 'Manhatten,Boston', 'East Coast', '63.5K', '27.5K', '18.2K', 4.3, 2, 29, 17, '60000', 0.0, 50000, 46, 23, 3, 1, 0, 1, 0, 0, 2, 2, 2, 'Yes', 'Discuss mechanism of action of drug', 'Target receptor of drug', 'Conferences for Product awareness', 'Awareness Campaigns', 'Email', 'Product Launch - Talim', 'To spread the awareness of the talim drug', 'Spreading awareness about talim drug', 'Neutral', 'Safety', 'Video Call')\n",
            "('6 Jun 19', 'David Kim', 'International', 'MBBS, MD, PhD', 'Oncology', 'Lung Cancer', 22, 5, 'Manhatten,Boston', 'East Coast', '63.9K', '27.9K', '18.8K', 4.3, 2, 29, 17, '60000', 0.0, 50000, 46, 23, 3, 1, 0, 1, 0, 0, 2, 2, 2, 'Yes', 'Conferences for Product awareness', 'Awareness Campaigns', 'Safety', 'Safety measures of the drug on general patients', 'Video Call', 'Product Launch - Talim', 'To discuss the safety measures of drug on general patients and discuss complications if any', 'Safety measures and its complications', 'Neutral', 'Efficacy', 'Video Call')\n",
            "('19 Sep 19', 'David Kim', 'International', 'MBBS, MD, PhD', 'Oncology', 'Lung Cancer', 22, 5, 'Manhatten,Boston', 'East Coast', '64.4K', '28.5K', '19.5K', 4.4, 3, 30, 18, '70000', 0.0, 50000, 47, 24, 4, 1, 1, 1, 0, 0, 2, 3, 3, 'Yes', 'Safety', 'Safety measures of the drug on general patients', 'Efficacy', 'Efficacy and effectivenes of drug', 'Video Call', 'Product Launch - Talim', 'Discussion on efficacy and its ability to eliminate the disease', 'efficacy and accuracy of drug', 'Neutral', 'Patient Demographics', 'In-Person')\n",
            "('22 Mar 20', 'David Kim', 'International', 'MBBS, MD, PhD', 'Oncology', 'Lung Cancer', 23, 5, 'Manhatten,Boston', 'East Coast', '67K', '31K', '22K', 4.6, 3, 32, 19, '80000', 0.0, 60000, 48, 26, 5, 1, 1, 1, 1, 0, 2, 4, 3, 'Yes', 'Efficacy', 'Efficacy and effectivenes of drug', 'Patient Demographics', 'Health Status,Origin ,age,race,gender of patients', 'In -Person', 'Product Launch - Talim', 'To study the patient demographics on which the drug is tested before launch', 'Health Status,Origin ,age,race,gender of patients', 'Neutral', 'Discuss various phases of testing in patients', 'Video Conference')\n",
            "('6 Jun 20', 'David Kim', 'International', 'MBBS, MD, PhD', 'Oncology', 'Lung Cancer', 23, 5, 'Manhatten,Boston', 'East Coast', '67.2K', '31.3K', '22.5K', 4.62, 4, 34, 19, '100000', 0.0, 60000, 50, 27, 5, 1, 1, 1, 1, 1, 2, 4, 3, 'No', \"Discussion on drug's potential benefits and differentiating factors that make it valuable to patients and healthcare providers\", 'Product overview and its differentiating way', 'Discussion regarding claims/insurance and copay programs', 'Claims made,Insurance Coverage,Training,Customer Support Programs', 'Video Conference', 'Product Launch - Talim', 'To discuss about the claims,insurance and copay programs', 'Liability Insurance,Claims regarding a product,Training programs,customer support programs,Loyalty or reward programs', 'Neutral', 'Discuss compliance and ethical practices', 'Phone Call')\n",
            "('19 Sep 20', 'David Kim', 'International', 'MBBS, MD, PhD', 'Oncology', 'Lung Cancer', 23, 5, 'Manhatten,Boston', 'East Coast', '67.5K', '31.9K', '23K', 4.63, 4, 36, 19, '100000', 0.0, 80000, 51, 27, 5, 2, 1, 1, 1, 1, 2, 4, 3, 'No', 'Efficacy', 'Efficacy and effectivenes of drug', 'Discuss the event objectives,agenda and topics to be covered', 'Event agenda,subtopics,objectives', 'Video Conference', 'Product Launch - Talim', 'Discussion on event agenda,topics so that they align with  company objectives', 'Event Agenda,Topics', 'Neutral', 'Scientific communication materials', 'Phone Call')\n",
            "('22 Mar 21', 'David Kim', 'International', 'MBBS, MD, PhD', 'Oncology', 'Lung Cancer', 24, 5, 'Manhatten,Boston', 'East Coast', '69K', '33K', '24K', 4.7, 6, 38, 20, '120000', None, 100000, 53, 28, 6, 2, 2, 1, 1, 1, 2, 5, 3, 'No', 'Safety', 'Safety measures of the drug on general patients', 'Sponsored patient programs', 'Access to medicine,patient education and support ,treatment adherance and monitoring', 'Email', 'Product Launch - Talim', 'Discussion on supporting patients with access to medicine,education and other programs', 'Access to medicine,patient education and support ,treatment adherance and monitoring', 'Neutral', 'Review and provide feedback on campaign designs', 'Video Conference')\n",
            "('6 Jun 21', 'David Kim', 'International', 'MBBS, MD, PhD', 'Oncology', 'Lung Cancer', 24, 5, 'Manhatten,Boston', 'East Coast', '69.2K', '33.3K', '24.5K', 4.66, 6, 38, 20, '120000', None, 100000, 53, 28, 6, 2, 2, 1, 1, 1, 2, 5, 3, 'No', \"Discussion on drug's potential benefits and differentiating factors that make it valuable to patients and healthcare providers\", 'Product overview and its differentiating way', 'Discuss the event objectives,agenda and topics to be covered', 'Event agenda,subtopics,objectives', 'Video Conference', 'Product Launch - Talim', 'Discussion on event agenda,topics so that they align with  company objectives', 'Event Agenda,Topics', 'Neutral', 'Discuss various phases of testing in patients', 'Video Conference')\n",
            "('19 Sep 21', 'David Kim', 'International', 'MBBS, MD, PhD', 'Oncology', 'Lung Cancer', 24, 5, 'Manhatten,Boston', 'East Coast', '69.5K', '33.8K', '24.9K', 4.64, 6, 38, 20, '120000', None, 100000, 53, 28, 6, 2, 2, 1, 1, 1, 2, 5, 4, 'No', 'Conferences for Product awareness', 'Awareness Campaigns', 'Marketing Startegy', 'Advertisments,brand reach', 'In-Person', 'Product Launch - Talim', 'Discussion about how to market the product to increase its reach', 'Promotion channels and tactics,Pharmacovigilance and safety monitoring', 'Neutral', 'Discuss various phases of testing in patients', 'Email')\n",
            "('22 Mar 17', 'Will Smith', 'National', 'MBBS, MD', 'Oncology', 'Lung Cancer', 3, 3, 'New Jersey', 'East Coast', '7K', '4K', '3K', 3.5, 2, 1, 2, '0', 100.0, 0, 1, 2, 3, 0, 0, 0, 0, 1, 0, 0, 1, 'No', 'Discuss mechanism of action of drug', 'Target receptor of drug', 'Patient Demographics', 'Health Status,Origin ,age,race,gender of patients', 'In -Person', 'Product Launch - Talim', 'To study the patient demographics on which the drug is tested before launch', 'Health Status,Origin ,age,race,gender of patients', 'Neutral', 'Discuss various phases of testing in patients', 'Video Conference')\n",
            "('6 Jun 17', 'Will Smith', 'National', 'MBBS, MD', 'Oncology', 'Lung Cancer', 3, 3, 'New Jersey', 'East Coast', '7.1K', '4.1K', '3.1K', 3.5, 2, 1, 2, '0', 100.0, 0, 1, 2, 3, 0, 0, 0, 0, 1, 0, 0, 1, 'No', 'Efficacy', 'Efficacy and effectivenes of drug', 'Discussion regarding claims/insurance and copay programs', 'Claims made,Insurance Coverage,Training,Customer Support Programs', 'Video Conference', 'Product Launch - Talim', 'To discuss about the claims,insurance and copay programs', 'Liability Insurance,Claims regarding a product,Training programs,customer support programs,Loyalty or reward programs', 'Neutral', 'Discuss compliance and ethical practices', 'Phone Call')\n",
            "('19 Sep 17', 'Will Smith', 'National', 'MBBS, MD', 'Oncology', 'Lung Cancer', 3, 3, 'New Jersey', 'East Coast', '7.15K', '4.14K', '3.15K', 3.5, 2, 1, 2, '0', 100.0, 0, 1, 2, 3, 0, 0, 0, 0, 1, 0, 0, 1, 'No', 'Discuss mechanism of action of drug', 'Target receptor of drug', 'Safety', 'Safety measures of the drug on general patients', 'Video Call', 'Product Launch - Talim', 'To discuss the safety measures of drug on general patients and discuss complications if any', 'Safety measures and its complications', 'Neutral', 'Efficacy', 'Video Call')\n",
            "('22 Mar 18', 'Will Smith', 'National', 'MBBS, MD', 'Oncology', 'Lung Cancer', 4, 4, 'New Jersey', 'East Coast', '7.2K', '4.2K', '3.2K', 3.67, 2, 1, 2, '0', 100.0, 0, 1, 2, 3, 0, 0, 0, 0, 1, 0, 0, 1, 'No', \"Discussion on drug's potential benefits and differentiating factors that make it valuable to patients and healthcare providers\", 'Product overview and its differentiating way', 'Discussion regarding claims/insurance and copay programs', 'Claims made,Insurance Coverage,Training,Customer Support Programs', 'Video Conference', 'Product Launch - Talim', 'To discuss about the claims,insurance and copay programs', 'Liability Insurance,Claims regarding a product,Training programs,customer support programs,Loyalty or reward programs', 'Neutral', 'Discuss compliance and ethical practices', 'Phone Call')\n",
            "('6 Jun 18', 'Will Smith', 'National', 'MBBS, MD', 'Oncology', 'Lung Cancer', 4, 4, 'New Jersey', 'East Coast', '7.3K', '4.4K', '3.4K', 3.77, 2, 1, 2, '0', 100.0, 0, 1, 2, 3, 0, 0, 0, 0, 1, 0, 0, 1, 'No', 'Safety', 'Safety measures of the drug on general patients', 'Efficacy', 'Efficacy and effectivenes of drug', 'Video Call', 'Product Launch - Talim', 'Discussion on efficacy and its ability to eliminate the disease', 'efficacy and accuracy of drug', 'Neutral', 'Patient Demographics', 'In-Person')\n",
            "('19 Sep 18', 'Will Smith', 'National', 'MBBS, MD', 'Oncology', 'Lung Cancer', 4, 4, 'New Jersey', 'East Coast', '7.4K', '4.5K', '3.6K', 3.8, 2, 1, 2, '0', 100.0, 0, 1, 2, 3, 0, 0, 0, 0, 1, 0, 0, 1, 'Yes', 'Introduction and overview of drug', 'Intro and overview of drug', 'Discuss mechanism of action of drug', 'Target receptor of drug', 'In-Person', 'Product Launch - Talim', 'To know about drug action and how it works', 'Target interaction of drug', 'Neutral', 'Conferences for Product awareness', 'Email')\n",
            "('22 Mar 19', 'Will Smith', 'National', 'MBBS, MD', 'Oncology', 'Lung Cancer', 5, 3, 'New Jersey', 'East Coast', '7.5K', '4.6K', '3.7K', 3.83, 2, 1, 2, '0', 100.0, 0, 1, 2, 3, 0, 0, 0, 0, 1, 0, 0, 1, 'Yes', 'Discuss mechanism of action of drug', 'Target receptor of drug', 'Conferences for Product awareness', 'Awareness Campaigns', 'Email', 'Product Launch - Talim', 'To spread the awareness of the talim drug', 'Spreading awareness about talim drug', 'Neutral', 'Safety', 'Video Call')\n",
            "('6 Jun 19', 'Will Smith', 'National', 'MBBS, MD', 'Oncology', 'Lung Cancer', 5, 3, 'New Jersey', 'East Coast', '7.5K', '4.6K', '3.7K', 3.83, 2, 1, 2, '0', 100.0, 0, 1, 2, 3, 0, 0, 0, 0, 1, 0, 0, 1, 'Yes', 'Conferences for Product awareness', 'Awareness Campaigns', 'Safety', 'Safety measures of the drug on general patients', 'Video Call', 'Product Launch - Talim', 'To discuss the safety measures of drug on general patients and discuss complications if any', 'Safety measures and its complications', 'Neutral', 'Efficacy', 'Video Call')\n",
            "('19 Sep 19', 'Will Smith', 'National', 'MBBS, MD', 'Oncology', 'Lung Cancer', 5, 3, 'New Jersey', 'East Coast', '7.6k', '4.6k', '3.77k', 3.9, 2, 1, 2, '0', 100.0, 0, 1, 2, 3, 0, 0, 0, 0, 1, 0, 0, 1, 'Yes', 'Safety', 'Safety measures of the drug on general patients', 'Efficacy', 'Efficacy and effectivenes of drug', 'Video Call', 'Product Launch - Talim', 'Discussion on efficacy and its ability to eliminate the disease', 'efficacy and accuracy of drug', 'Neutral', 'Patient Demographics', 'In-Person')\n",
            "('22 Mar 20', 'Will Smith', 'National', 'MBBS, MD', 'Oncology', 'Lung Cancer', 6, 3, 'New Jersey', 'East Coast', '7.8K', '4.9K', '3.8K', 4.5, 4, 1, 2, '0', 100.0, 0, 1, 2, 3, 0, 0, 0, 0, 1, 0, 0, 1, 'Yes', 'Efficacy', 'Efficacy and effectivenes of drug', 'Patient Demographics', 'Health Status,Origin ,age,race,gender of patients', 'In -Person', 'Product Launch - Talim', 'To study the patient demographics on which the drug is tested before launch', 'Health Status,Origin ,age,race,gender of patients', 'Neutral', 'Discuss various phases of testing in patients', 'Video Conference')\n",
            "('6 Jun 20', 'Will Smith', 'National', 'MBBS, MD', 'Oncology', 'Blood Cancer', 6, 3, 'New Jersey', 'East Coast', '8K', '5.5K', '4.3K', 4.55, 5, 1, 2, '0', 100.0, 0, 1, 2, 3, 0, 0, 0, 0, 1, 0, 0, 1, 'No', 'Discussion regarding blood cancer', 'Overview of blood cancer', 'Advances in Diagnostic Techniques', 'Technological Advancements in Blood Cancer', 'In-Person', 'Medical Conference for Blood Cancer', 'Discuss the latest developments in diagnostic tools and techniques for early detection and accurate diagnosis of blood cancer', 'Latest tools and diagnostic techniques', 'Good', 'Initiate preclinical studies based on in vitro assays and animal model discussions', 'Email')\n",
            "('19 Sep 20', 'Will Smith', 'National', 'MBBS, MD', 'Oncology', 'Blood Cancer', 6, 3, 'New Jersey', 'East Coast', '8K', '5.5K', '4.3K', 4.2, 5, 1, 2, '0', 100.0, 0, 1, 2, 3, 0, 0, 0, 0, 1, 0, 0, 1, 'Yes', 'Advances in Diagnostic Techniques', 'Technological Advancements in Blood Cancer', 'Treatment modalities', 'Treatment options available for blood cancer', 'Email', 'Medical Conference for Blood Cancer', 'Discuss the benefits,limitations and potential side effects of each approach', 'Benefits,limitations and potential side effects', 'Good', 'Personalized medicine in Blood Cancer ', 'Video Conference')\n",
            "('22 Mar 21', 'Will Smith', 'National', 'MBBS, MD', 'Oncology', 'Blood Cancer', 7, 3, 'New Jersey', 'East Coast', '8K', '5.5K', '4.3K', 4.2, 5, 1, 2, '0', 100.0, 0, 1, 2, 3, 0, 0, 0, 0, 1, 0, 0, 1, 'Yes', 'Treatment modalities', 'Treatment options available for blood cancer', 'Supportive Care and Surviviorship', 'Pain management,pyschosocial support', 'Video Conference', 'Medical Conference for Blood Cancer', 'Discuss strategies to improve quality of life and survivorship outcomes for patients', 'Pain management,psychosocial support,nutritional support and palliative care', 'Good', 'Emerging therapies and clinical trial', 'In person ')\n",
            "('6 Jun 21', 'Will Smith', 'National', 'MBBS, MD', 'Oncology', 'Blood Cancer', 7, 3, 'New Jersey', 'East Coast', '8K', '5.5K', '4.3K', 4.16, 5, 1, 2, '0', 100.0, 0, 1, 2, 3, 0, 0, 0, 0, 1, 0, 0, 1, 'No', 'Supportive Care and Surviviorship', 'Pain management,pyschosocial support', 'Emerging therapies and clinical trials', 'Latest advancements and ongoing clinical trials in blood cancer research', 'In Person', 'Medical Conference for Blood Cancer', 'Highlight promising new drugs,combination therpaies and treatment approaches', 'Immunotherapeutic agents,targeted therapies', 'Good', 'Long term effects and late complications', 'In person ')\n",
            "('19 Sep 21', 'Will Smith', 'National', 'MBBS, MD', 'Oncology', 'Blood Cancer', 7, 3, 'New Jersey', 'East Coast', '8K', '5.5K', '4.3K', 4.16, 5, 1, 2, '0', 100.0, 0, 1, 2, 3, 0, 0, 0, 0, 1, 0, 0, 1, 'No', 'Emerging therapies and clinical trials', 'Latest advancements and ongoing clinical trials in blood cancer research', 'Long Term effects and late complications', 'Secondary malignacies,cardiac toxicity,endocrine dysfunction', 'In Person', 'Medical Conference for Blood Cancer', 'Address strategies for survelliance and management of these complications', 'Secondary malignacies,cardiac toxicity,endocrine dysfunction,fertility issues', 'Good', 'Survivorship care planning', 'Video Conference')\n"
          ]
        }
      ]
    },
    {
      "cell_type": "code",
      "source": [
        "!pip install langchain"
      ],
      "metadata": {
        "colab": {
          "base_uri": "https://localhost:8080/"
        },
        "id": "Kj8LQ_vd0osX",
        "outputId": "5371ce25-5f46-4e01-80a0-31e3635f8f50"
      },
      "execution_count": 9,
      "outputs": [
        {
          "output_type": "stream",
          "name": "stdout",
          "text": [
            "Looking in indexes: https://pypi.org/simple, https://us-python.pkg.dev/colab-wheels/public/simple/\n",
            "Collecting langchain\n",
            "  Downloading langchain-0.0.192-py3-none-any.whl (989 kB)\n",
            "\u001b[2K     \u001b[90m━━━━━━━━━━━━━━━━━━━━━━━━━━━━━━━━━━━━━━\u001b[0m \u001b[32m990.0/990.0 kB\u001b[0m \u001b[31m35.4 MB/s\u001b[0m eta \u001b[36m0:00:00\u001b[0m\n",
            "\u001b[?25hRequirement already satisfied: PyYAML>=5.4.1 in /usr/local/lib/python3.10/dist-packages (from langchain) (6.0)\n",
            "Requirement already satisfied: SQLAlchemy<3,>=1.4 in /usr/local/lib/python3.10/dist-packages (from langchain) (2.0.10)\n",
            "Collecting aiohttp<4.0.0,>=3.8.3 (from langchain)\n",
            "  Downloading aiohttp-3.8.4-cp310-cp310-manylinux_2_17_x86_64.manylinux2014_x86_64.whl (1.0 MB)\n",
            "\u001b[2K     \u001b[90m━━━━━━━━━━━━━━━━━━━━━━━━━━━━━━━━━━━━━━━━\u001b[0m \u001b[32m1.0/1.0 MB\u001b[0m \u001b[31m75.8 MB/s\u001b[0m eta \u001b[36m0:00:00\u001b[0m\n",
            "\u001b[?25hCollecting async-timeout<5.0.0,>=4.0.0 (from langchain)\n",
            "  Downloading async_timeout-4.0.2-py3-none-any.whl (5.8 kB)\n",
            "Collecting dataclasses-json<0.6.0,>=0.5.7 (from langchain)\n",
            "  Downloading dataclasses_json-0.5.7-py3-none-any.whl (25 kB)\n",
            "Collecting langchainplus-sdk<0.0.5,>=0.0.4 (from langchain)\n",
            "  Downloading langchainplus_sdk-0.0.4-py3-none-any.whl (21 kB)\n",
            "Requirement already satisfied: numexpr<3.0.0,>=2.8.4 in /usr/local/lib/python3.10/dist-packages (from langchain) (2.8.4)\n",
            "Requirement already satisfied: numpy<2,>=1 in /usr/local/lib/python3.10/dist-packages (from langchain) (1.22.4)\n",
            "Collecting openapi-schema-pydantic<2.0,>=1.2 (from langchain)\n",
            "  Downloading openapi_schema_pydantic-1.2.4-py3-none-any.whl (90 kB)\n",
            "\u001b[2K     \u001b[90m━━━━━━━━━━━━━━━━━━━━━━━━━━━━━━━━━━━━━━━━\u001b[0m \u001b[32m90.0/90.0 kB\u001b[0m \u001b[31m8.0 MB/s\u001b[0m eta \u001b[36m0:00:00\u001b[0m\n",
            "\u001b[?25hRequirement already satisfied: pydantic<2,>=1 in /usr/local/lib/python3.10/dist-packages (from langchain) (1.10.7)\n",
            "Requirement already satisfied: requests<3,>=2 in /usr/local/lib/python3.10/dist-packages (from langchain) (2.27.1)\n",
            "Requirement already satisfied: tenacity<9.0.0,>=8.1.0 in /usr/local/lib/python3.10/dist-packages (from langchain) (8.2.2)\n",
            "Requirement already satisfied: attrs>=17.3.0 in /usr/local/lib/python3.10/dist-packages (from aiohttp<4.0.0,>=3.8.3->langchain) (23.1.0)\n",
            "Requirement already satisfied: charset-normalizer<4.0,>=2.0 in /usr/local/lib/python3.10/dist-packages (from aiohttp<4.0.0,>=3.8.3->langchain) (2.0.12)\n",
            "Collecting multidict<7.0,>=4.5 (from aiohttp<4.0.0,>=3.8.3->langchain)\n",
            "  Downloading multidict-6.0.4-cp310-cp310-manylinux_2_17_x86_64.manylinux2014_x86_64.whl (114 kB)\n",
            "\u001b[2K     \u001b[90m━━━━━━━━━━━━━━━━━━━━━━━━━━━━━━━━━━━━━━\u001b[0m \u001b[32m114.5/114.5 kB\u001b[0m \u001b[31m12.6 MB/s\u001b[0m eta \u001b[36m0:00:00\u001b[0m\n",
            "\u001b[?25hCollecting yarl<2.0,>=1.0 (from aiohttp<4.0.0,>=3.8.3->langchain)\n",
            "  Downloading yarl-1.9.2-cp310-cp310-manylinux_2_17_x86_64.manylinux2014_x86_64.whl (268 kB)\n",
            "\u001b[2K     \u001b[90m━━━━━━━━━━━━━━━━━━━━━━━━━━━━━━━━━━━━━━\u001b[0m \u001b[32m268.8/268.8 kB\u001b[0m \u001b[31m33.2 MB/s\u001b[0m eta \u001b[36m0:00:00\u001b[0m\n",
            "\u001b[?25hCollecting frozenlist>=1.1.1 (from aiohttp<4.0.0,>=3.8.3->langchain)\n",
            "  Downloading frozenlist-1.3.3-cp310-cp310-manylinux_2_5_x86_64.manylinux1_x86_64.manylinux_2_17_x86_64.manylinux2014_x86_64.whl (149 kB)\n",
            "\u001b[2K     \u001b[90m━━━━━━━━━━━━━━━━━━━━━━━━━━━━━━━━━━━━━━\u001b[0m \u001b[32m149.6/149.6 kB\u001b[0m \u001b[31m22.5 MB/s\u001b[0m eta \u001b[36m0:00:00\u001b[0m\n",
            "\u001b[?25hCollecting aiosignal>=1.1.2 (from aiohttp<4.0.0,>=3.8.3->langchain)\n",
            "  Downloading aiosignal-1.3.1-py3-none-any.whl (7.6 kB)\n",
            "Collecting marshmallow<4.0.0,>=3.3.0 (from dataclasses-json<0.6.0,>=0.5.7->langchain)\n",
            "  Downloading marshmallow-3.19.0-py3-none-any.whl (49 kB)\n",
            "\u001b[2K     \u001b[90m━━━━━━━━━━━━━━━━━━━━━━━━━━━━━━━━━━━━━━━━\u001b[0m \u001b[32m49.1/49.1 kB\u001b[0m \u001b[31m7.1 MB/s\u001b[0m eta \u001b[36m0:00:00\u001b[0m\n",
            "\u001b[?25hCollecting marshmallow-enum<2.0.0,>=1.5.1 (from dataclasses-json<0.6.0,>=0.5.7->langchain)\n",
            "  Downloading marshmallow_enum-1.5.1-py2.py3-none-any.whl (4.2 kB)\n",
            "Collecting typing-inspect>=0.4.0 (from dataclasses-json<0.6.0,>=0.5.7->langchain)\n",
            "  Downloading typing_inspect-0.9.0-py3-none-any.whl (8.8 kB)\n",
            "Requirement already satisfied: typing-extensions>=4.2.0 in /usr/local/lib/python3.10/dist-packages (from pydantic<2,>=1->langchain) (4.5.0)\n",
            "Requirement already satisfied: urllib3<1.27,>=1.21.1 in /usr/local/lib/python3.10/dist-packages (from requests<3,>=2->langchain) (1.26.15)\n",
            "Requirement already satisfied: certifi>=2017.4.17 in /usr/local/lib/python3.10/dist-packages (from requests<3,>=2->langchain) (2022.12.7)\n",
            "Requirement already satisfied: idna<4,>=2.5 in /usr/local/lib/python3.10/dist-packages (from requests<3,>=2->langchain) (3.4)\n",
            "Requirement already satisfied: greenlet!=0.4.17 in /usr/local/lib/python3.10/dist-packages (from SQLAlchemy<3,>=1.4->langchain) (2.0.2)\n",
            "Requirement already satisfied: packaging>=17.0 in /usr/local/lib/python3.10/dist-packages (from marshmallow<4.0.0,>=3.3.0->dataclasses-json<0.6.0,>=0.5.7->langchain) (23.1)\n",
            "Collecting mypy-extensions>=0.3.0 (from typing-inspect>=0.4.0->dataclasses-json<0.6.0,>=0.5.7->langchain)\n",
            "  Downloading mypy_extensions-1.0.0-py3-none-any.whl (4.7 kB)\n",
            "Installing collected packages: mypy-extensions, multidict, marshmallow, frozenlist, async-timeout, yarl, typing-inspect, openapi-schema-pydantic, marshmallow-enum, langchainplus-sdk, aiosignal, dataclasses-json, aiohttp, langchain\n",
            "Successfully installed aiohttp-3.8.4 aiosignal-1.3.1 async-timeout-4.0.2 dataclasses-json-0.5.7 frozenlist-1.3.3 langchain-0.0.192 langchainplus-sdk-0.0.4 marshmallow-3.19.0 marshmallow-enum-1.5.1 multidict-6.0.4 mypy-extensions-1.0.0 openapi-schema-pydantic-1.2.4 typing-inspect-0.9.0 yarl-1.9.2\n"
          ]
        }
      ]
    },
    {
      "cell_type": "code",
      "source": [
        "!pip install transformers accelerate bitsandbytes"
      ],
      "metadata": {
        "colab": {
          "base_uri": "https://localhost:8080/"
        },
        "id": "L88FxOqf10I1",
        "outputId": "1df0aa32-89e9-4f09-cda3-8c1110036666"
      },
      "execution_count": 10,
      "outputs": [
        {
          "output_type": "stream",
          "name": "stdout",
          "text": [
            "Looking in indexes: https://pypi.org/simple, https://us-python.pkg.dev/colab-wheels/public/simple/\n",
            "Collecting transformers\n",
            "  Downloading transformers-4.29.2-py3-none-any.whl (7.1 MB)\n",
            "\u001b[2K     \u001b[90m━━━━━━━━━━━━━━━━━━━━━━━━━━━━━━━━━━━━━━━━\u001b[0m \u001b[32m7.1/7.1 MB\u001b[0m \u001b[31m95.7 MB/s\u001b[0m eta \u001b[36m0:00:00\u001b[0m\n",
            "\u001b[?25hCollecting accelerate\n",
            "  Downloading accelerate-0.19.0-py3-none-any.whl (219 kB)\n",
            "\u001b[2K     \u001b[90m━━━━━━━━━━━━━━━━━━━━━━━━━━━━━━━━━━━━━━\u001b[0m \u001b[32m219.1/219.1 kB\u001b[0m \u001b[31m26.3 MB/s\u001b[0m eta \u001b[36m0:00:00\u001b[0m\n",
            "\u001b[?25hCollecting bitsandbytes\n",
            "  Downloading bitsandbytes-0.39.0-py3-none-any.whl (92.2 MB)\n",
            "\u001b[2K     \u001b[90m━━━━━━━━━━━━━━━━━━━━━━━━━━━━━━━━━━━━━━━━\u001b[0m \u001b[32m92.2/92.2 MB\u001b[0m \u001b[31m3.3 MB/s\u001b[0m eta \u001b[36m0:00:00\u001b[0m\n",
            "\u001b[?25hRequirement already satisfied: filelock in /usr/local/lib/python3.10/dist-packages (from transformers) (3.12.0)\n",
            "Collecting huggingface-hub<1.0,>=0.14.1 (from transformers)\n",
            "  Downloading huggingface_hub-0.15.1-py3-none-any.whl (236 kB)\n",
            "\u001b[2K     \u001b[90m━━━━━━━━━━━━━━━━━━━━━━━━━━━━━━━━━━━━━━\u001b[0m \u001b[32m236.8/236.8 kB\u001b[0m \u001b[31m26.8 MB/s\u001b[0m eta \u001b[36m0:00:00\u001b[0m\n",
            "\u001b[?25hRequirement already satisfied: numpy>=1.17 in /usr/local/lib/python3.10/dist-packages (from transformers) (1.22.4)\n",
            "Requirement already satisfied: packaging>=20.0 in /usr/local/lib/python3.10/dist-packages (from transformers) (23.1)\n",
            "Requirement already satisfied: pyyaml>=5.1 in /usr/local/lib/python3.10/dist-packages (from transformers) (6.0)\n",
            "Requirement already satisfied: regex!=2019.12.17 in /usr/local/lib/python3.10/dist-packages (from transformers) (2022.10.31)\n",
            "Requirement already satisfied: requests in /usr/local/lib/python3.10/dist-packages (from transformers) (2.27.1)\n",
            "Collecting tokenizers!=0.11.3,<0.14,>=0.11.1 (from transformers)\n",
            "  Downloading tokenizers-0.13.3-cp310-cp310-manylinux_2_17_x86_64.manylinux2014_x86_64.whl (7.8 MB)\n",
            "\u001b[2K     \u001b[90m━━━━━━━━━━━━━━━━━━━━━━━━━━━━━━━━━━━━━━━━\u001b[0m \u001b[32m7.8/7.8 MB\u001b[0m \u001b[31m122.7 MB/s\u001b[0m eta \u001b[36m0:00:00\u001b[0m\n",
            "\u001b[?25hRequirement already satisfied: tqdm>=4.27 in /usr/local/lib/python3.10/dist-packages (from transformers) (4.65.0)\n",
            "Requirement already satisfied: psutil in /usr/local/lib/python3.10/dist-packages (from accelerate) (5.9.5)\n",
            "Requirement already satisfied: torch>=1.6.0 in /usr/local/lib/python3.10/dist-packages (from accelerate) (2.0.1+cu118)\n",
            "Requirement already satisfied: fsspec in /usr/local/lib/python3.10/dist-packages (from huggingface-hub<1.0,>=0.14.1->transformers) (2023.4.0)\n",
            "Requirement already satisfied: typing-extensions>=3.7.4.3 in /usr/local/lib/python3.10/dist-packages (from huggingface-hub<1.0,>=0.14.1->transformers) (4.5.0)\n",
            "Requirement already satisfied: sympy in /usr/local/lib/python3.10/dist-packages (from torch>=1.6.0->accelerate) (1.11.1)\n",
            "Requirement already satisfied: networkx in /usr/local/lib/python3.10/dist-packages (from torch>=1.6.0->accelerate) (3.1)\n",
            "Requirement already satisfied: jinja2 in /usr/local/lib/python3.10/dist-packages (from torch>=1.6.0->accelerate) (3.1.2)\n",
            "Requirement already satisfied: triton==2.0.0 in /usr/local/lib/python3.10/dist-packages (from torch>=1.6.0->accelerate) (2.0.0)\n",
            "Requirement already satisfied: cmake in /usr/local/lib/python3.10/dist-packages (from triton==2.0.0->torch>=1.6.0->accelerate) (3.25.2)\n",
            "Requirement already satisfied: lit in /usr/local/lib/python3.10/dist-packages (from triton==2.0.0->torch>=1.6.0->accelerate) (16.0.5)\n",
            "Requirement already satisfied: urllib3<1.27,>=1.21.1 in /usr/local/lib/python3.10/dist-packages (from requests->transformers) (1.26.15)\n",
            "Requirement already satisfied: certifi>=2017.4.17 in /usr/local/lib/python3.10/dist-packages (from requests->transformers) (2022.12.7)\n",
            "Requirement already satisfied: charset-normalizer~=2.0.0 in /usr/local/lib/python3.10/dist-packages (from requests->transformers) (2.0.12)\n",
            "Requirement already satisfied: idna<4,>=2.5 in /usr/local/lib/python3.10/dist-packages (from requests->transformers) (3.4)\n",
            "Requirement already satisfied: MarkupSafe>=2.0 in /usr/local/lib/python3.10/dist-packages (from jinja2->torch>=1.6.0->accelerate) (2.1.2)\n",
            "Requirement already satisfied: mpmath>=0.19 in /usr/local/lib/python3.10/dist-packages (from sympy->torch>=1.6.0->accelerate) (1.3.0)\n",
            "Installing collected packages: tokenizers, bitsandbytes, huggingface-hub, transformers, accelerate\n",
            "Successfully installed accelerate-0.19.0 bitsandbytes-0.39.0 huggingface-hub-0.15.1 tokenizers-0.13.3 transformers-4.29.2\n"
          ]
        }
      ]
    },
    {
      "cell_type": "code",
      "source": [
        "from transformers import BitsAndBytesConfig\n",
        "quantization_config=BitsAndBytesConfig(llm_int8_enable_fp32_cpu_offload=True)"
      ],
      "metadata": {
        "id": "L2zpSZhc8di2"
      },
      "execution_count": 17,
      "outputs": []
    },
    {
      "cell_type": "code",
      "source": [
        "device_map1={\n",
        "    \"transformers.word_embeddings\":0,\n",
        "    \"transformers.word_embeddings_layernorm\":0,\n",
        "    \"lm_head\":\"cpu\",\n",
        "    \"transformers.h\":0,\n",
        "    \"transformers.ln_f\":0,\n",
        "}"
      ],
      "metadata": {
        "id": "AKlHq67i8vat"
      },
      "execution_count": 21,
      "outputs": []
    },
    {
      "cell_type": "code",
      "source": [
        "import logging\n",
        "import torch\n",
        "from transformers import AutoTokenizer, GPT2TokenizerFast, pipeline, AutoModelForSeq2SeqLM, AutoModelForCausalLM\n",
        "from langchain import HuggingFacePipeline\n",
        "\n",
        "# Note: This model requires a large GPU, e.g. an 80GB A100. See documentation for other ways to run private non-OpenAI models.\n",
        "model_id = \"google/flan-ul2\"\n",
        "model = AutoModelForSeq2SeqLM.from_pretrained(model_id,load_in_8bit=True,device_map=device_map1,quantization_config=quantization_config)\n",
        "\n",
        "\n",
        "\n",
        "tokenizer = AutoTokenizer.from_pretrained(model_id)\n",
        "pipe = pipeline(task=\"text2text-generation\", model=model, tokenizer=tokenizer, max_length=1024,device=0)\n",
        "\n",
        "local_llm = HuggingFacePipeline(pipeline=pipe)"
      ],
      "metadata": {
        "colab": {
          "base_uri": "https://localhost:8080/",
          "height": 49,
          "referenced_widgets": [
            "4ca5097c651e437db66b6a3b6ce2cafc",
            "fad69f534e7a41f48c1476aa0c7248ca",
            "7d20e953b1ee43599f0655af9bc56ea6",
            "5f0a62c3c387484cb3ebd1b966fe7c64",
            "aa695157a1e34bccad4f1259ec8d7058",
            "b1a854d703924c978021272aefaa265f",
            "3bbb68ac2472428082ae37d12605424b",
            "2366e680a0c74319a4890374d562ddb8",
            "d340905d69814ff5939e9e2cf29dee16",
            "45b4c71071294af8bfb4be9c2b87ee03",
            "eea2e4b36f094ae494031f5cad4d5433"
          ]
        },
        "id": "RqwydJp_0zaV",
        "outputId": "765676a7-97af-4c0d-a3a5-c103fadad784"
      },
      "execution_count": null,
      "outputs": [
        {
          "output_type": "display_data",
          "data": {
            "text/plain": [
              "Loading checkpoint shards:   0%|          | 0/8 [00:00<?, ?it/s]"
            ],
            "application/vnd.jupyter.widget-view+json": {
              "version_major": 2,
              "version_minor": 0,
              "model_id": "4ca5097c651e437db66b6a3b6ce2cafc"
            }
          },
          "metadata": {}
        }
      ]
    },
    {
      "cell_type": "code",
      "source": [
        "from langchain import SQLDatabase, SQLDatabaseChain\n",
        "\n",
        "db = SQLDatabase.from_uri(\"sqlite:///../../../../notebooks/Chinook.db\", include_tables=['Customer'])\n",
        "local_chain = SQLDatabaseChain.from_llm(local_llm, db, verbose=True, return_intermediate_steps=True, use_query_checker=True)"
      ],
      "metadata": {
        "id": "mlJkiDm70X2e"
      },
      "execution_count": null,
      "outputs": []
    }
  ]
}